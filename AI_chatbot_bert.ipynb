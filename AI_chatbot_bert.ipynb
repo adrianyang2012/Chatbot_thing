{
  "nbformat": 4,
  "nbformat_minor": 0,
  "metadata": {
    "colab": {
      "private_outputs": true,
      "provenance": [],
      "authorship_tag": "ABX9TyNSnwOxR19jY/xD1QzUn8Fl",
      "include_colab_link": true
    },
    "kernelspec": {
      "name": "python3",
      "display_name": "Python 3"
    },
    "language_info": {
      "name": "python"
    }
  },
  "cells": [
    {
      "cell_type": "markdown",
      "metadata": {
        "id": "view-in-github",
        "colab_type": "text"
      },
      "source": [
        "<a href=\"https://colab.research.google.com/github/adrianyang2012/Chatbot_thing/blob/main/AI_chatbot_bert.ipynb\" target=\"_parent\"><img src=\"https://colab.research.google.com/assets/colab-badge.svg\" alt=\"Open In Colab\"/></a>"
      ]
    },
    {
      "cell_type": "code",
      "source": [
        "from transformers import pipeline\n",
        "unmasker = pipeline('fill-mask', model='bert-base-uncased')\n"
      ],
      "metadata": {
        "id": "guxwvhMUaosF"
      },
      "execution_count": null,
      "outputs": []
    },
    {
      "cell_type": "code",
      "source": [
        "question = input('ask a question: ')\n",
        "response = ''\n",
        "thing = f\"{question} = [MASK]\"\n",
        "a = unmasker(thing)[0]['sequence']\n",
        "response += unmasker(thing)[0]['token_str']\n",
        "\n",
        "for i in range(0,5):\n",
        "  thing = f\"The answer to the question  '{question}'  is [MASK] and stuff\"\n",
        "  response += ' '+unmasker(thing)[0]['token_str']\n",
        "  a = unmasker(thing)[0]['sequence']\n",
        "\n",
        "print(response)"
      ],
      "metadata": {
        "id": "rrgu9HFBdxfN"
      },
      "execution_count": null,
      "outputs": []
    },
    {
      "cell_type": "code",
      "source": [
        "from transformers import pipeline\n",
        "\n",
        "# Load the fill-mask pipeline with BERT model\n",
        "unmasker = pipeline('fill-mask', model='bert-base-uncased')\n",
        "\n",
        "# Define a function to handle user inputs and generate responses\n",
        "def chatbot():\n",
        "    while True:\n",
        "        user_input = input(\"You: \")\n",
        "        if user_input.lower() == 'exit':\n",
        "            print(\"Chatbot: Goodbye!\")\n",
        "            break\n",
        "\n",
        "        # Add a placeholder [MASK] token to the user input\n",
        "        input_with_mask = '\"'+user_input + '\"' + 'asks the person' + '\"[MASK]\"' + 'responded the other person'\n",
        "        # Generate response using the BERT model\n",
        "        response = unmasker(input_with_mask)[0]['token_str']\n",
        "        print(\"Chatbot:\", response)\n",
        "\n",
        "# Start the chatbot\n",
        "chatbot()\n"
      ],
      "metadata": {
        "id": "_W55dAJ4or5k"
      },
      "execution_count": null,
      "outputs": []
    },
    {
      "cell_type": "code",
      "source": [
        "a = 'hi everyone'\n",
        "b = ''\n",
        "for i in range(0,len(a)):\n"
      ],
      "metadata": {
        "id": "y5VXwPZsUuY4"
      },
      "execution_count": null,
      "outputs": []
    }
  ]
}