{
  "nbformat": 4,
  "nbformat_minor": 0,
  "metadata": {
    "colab": {
      "private_outputs": true,
      "provenance": [],
      "authorship_tag": "ABX9TyOrLU8L+gI0XvjSboX1bWHs",
      "include_colab_link": true
    },
    "kernelspec": {
      "name": "python3",
      "display_name": "Python 3"
    },
    "language_info": {
      "name": "python"
    }
  },
  "cells": [
    {
      "cell_type": "markdown",
      "metadata": {
        "id": "view-in-github",
        "colab_type": "text"
      },
      "source": [
        "<a href=\"https://colab.research.google.com/github/adrianyang2012/Chatbot_thing/blob/main/AI_chatbots.ipynb\" target=\"_parent\"><img src=\"https://colab.research.google.com/assets/colab-badge.svg\" alt=\"Open In Colab\"/></a>"
      ]
    },
    {
      "cell_type": "code",
      "execution_count": null,
      "metadata": {
        "id": "aTBJT7HEHxTl"
      },
      "outputs": [],
      "source": [
        "questions = ['who was the first president','who banned slavery','who drafted the declaration of independence','who wrote the early drafts of the constitution']\n",
        "answers = ['George Washington','Abraham Lincoln','Thomas Jefferson','James Madison']"
      ]
    },
    {
      "cell_type": "code",
      "source": [
        "!pip install pylev\n",
        "!pip install html2text"
      ],
      "metadata": {
        "id": "iZRlmEpg0gOY"
      },
      "execution_count": null,
      "outputs": []
    },
    {
      "cell_type": "code",
      "source": [],
      "metadata": {
        "id": "9cIHa2pfJKbh"
      },
      "execution_count": null,
      "outputs": []
    },
    {
      "cell_type": "code",
      "source": [
        "stop_words = ['the','and','or','a']\n",
        "data = \"\"\"George Walker Bush (born July 6, 1946) is an American politician and businessman who served as the 43rd president of the United States from 2001 to 2009. A member of the Republican Party, he previously served as the 46th governor of Texas from 1995 to 2000.\n",
        "The eldest son of the 41st president George H. W. Bush and a member of the Bush family, he flew warplanes in the Texas Air National Guard in his twenties. After graduating from Harvard Business School in 1975, he worked in the oil industry. He later co-owned the Texas Rangers of Major League Baseball before being elected governor of Texas in 1994. As governor, Bush successfully sponsored legislation for tort reform, increased education funding, set higher standards for schools, and reformed the criminal justice system. He also helped make Texas the country's leading producer of wind-powered electricity. In the 2000 United States presidential election, he won over Democratic incumbent Vice President Al Gore, despite losing the popular vote after a narrow and contested Electoral College win that involved a Supreme Court decision to stop a recount in Florida.\n",
        "Upon taking office, Bush signed a major tax cut program and an education reform bill, the No Child Left Behind Act. He pushed for socially conservative efforts such as the Partial-Birth Abortion Ban Act and faith-based initiatives. He also initiated the President's Emergency Plan for AIDS Relief in 2003 to address the AIDS epidemic. The terrorist attacks on September 11, 2001 decisively reshaped his administration, resulting in the start of the war on terror and the creation of the Department of Homeland Security. Bush ordered the 2001 invasion of Afghanistan in an effort to overthrow the Taliban, destroy al-Qaeda, and capture Osama bin Laden. He signed the Patriot Act to authorize surveillance of suspected terrorists. He also ordered the 2003 invasion of Iraq on the inaccurate beliefs that Saddam Hussein's regime possessed weapons of mass destruction and developed ties with al-Qaeda. Bush later signed the Medicare Modernization Act, which created Medicare Part D. In 2004, Bush was reelected president in a close election, beating Democratic opponent John Kerry and winning a majority of the popular vote.\n",
        "During his second term, Bush reached multiple free trade agreements. He appointed John Roberts and Samuel Alito to the Supreme Court. He sought major changes to Social Security and immigration laws, but both efforts failed in Congress. Bush was widely criticized for his handling of Hurricane Katrina and the midterm dismissal of U.S. attorneys. Amid his unpopularity, the Democrats regained control of Congress in the 2006 elections. The Afghanistan and Iraq wars continued, and, in January 2007, Bush launched a surge of troops in Iraq. By December, the U.S. entered the Great Recession, prompting the Bush administration to obtain congressional approval for multiple economic programs intended to preserve the country's financial system, including the Troubled Asset Relief Program.\n",
        "After finishing his second term, Bush returned to Texas, where he has since maintained a low public profile. At various points in his presidency, he was among both the most popular and unpopular presidents in U.S. history. He received the highest recorded approval ratings in the wake of the September 11 attacks, but also one of the lowest ratings during the 2007–2008 financial crisis. Although public opinion of Bush has improved since he left office, his presidency has generally been rated as below-average by scholars.\"\"\".replace('\\n','')\n"
      ],
      "metadata": {
        "id": "oKr8cLb04Tzy"
      },
      "execution_count": null,
      "outputs": []
    },
    {
      "cell_type": "code",
      "source": [
        "import requests\n",
        "import re\n",
        "import html2text\n",
        "h = html2text.HTML2Text()\n",
        "h.ignore_links = True\n",
        "the_text = ''\n",
        "for i in range(0,1000):\n",
        "  print(i)\n",
        "  the_text += requests.get('https://en.wikipedia.org/wiki/Special:Random').text.replace('\\n','')\n",
        "#print(the_text)\n",
        "texts = re.findall(\"<p>.*?</p>\",the_text)\n",
        "data = ''\n",
        "for some_text in texts:\n",
        "  data += h.handle(some_text)\n",
        "data.replace('\\n',' ')\n"
      ],
      "metadata": {
        "id": "i8lKvmuqwys1"
      },
      "execution_count": null,
      "outputs": []
    },
    {
      "cell_type": "code",
      "source": [
        "list_of_data = data.split('.')\n",
        "print(list_of_data)\n",
        "questions = []\n",
        "answers = []\n",
        "def remove_stop_words(text,stop_words):\n",
        "  for word in stop_words:\n",
        "    text.replace(' word ',' ')\n",
        "  return text\n",
        "for i in range(0,len(list_of_data)):\n",
        "  current_split = remove_stop_words(list_of_data[i],stop_words).lower().replace(' are ',' is ').replace(' was ',' is ').replace(' were ',' is ').replace('.','').replace(',','').split(' is ')\n",
        "  if len(current_split) > 1:\n",
        "    questions.append(current_split[0].replace('\\n',' ').replace('**',''))\n",
        "    answers.append(current_split[-1].replace('\\n',' ').replace('**',''))"
      ],
      "metadata": {
        "id": "gkFf5S4w5z4s"
      },
      "execution_count": null,
      "outputs": []
    },
    {
      "cell_type": "code",
      "source": [
        "list(zip(questions,answers))"
      ],
      "metadata": {
        "id": "PKYmQjvZ63XW"
      },
      "execution_count": null,
      "outputs": []
    },
    {
      "cell_type": "code",
      "source": [
        "\n",
        "\n",
        "import pylev\n",
        "question = input('what is your question: ').lower()\n",
        "question_tokens = question.split(' ')\n",
        "min_distance = float('inf')\n",
        "max_answer = 'I dont know'\n",
        "for i in range(0,len(questions)):\n",
        "  tokens = questions[i].split(' ')\n",
        "  if min_distance > pylev.levenshtein(tokens, question_tokens):\n",
        "    min_distance = pylev.levenshtein(tokens, question_tokens)\n",
        "    max_answer = answers[i]\n",
        "\n",
        "print(max_answer)\n",
        "\n"
      ],
      "metadata": {
        "id": "I7YfAwJ1VsK_"
      },
      "execution_count": null,
      "outputs": []
    }
  ]
}